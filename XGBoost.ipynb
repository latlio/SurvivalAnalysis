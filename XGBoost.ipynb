{
 "cells": [
  {
   "cell_type": "markdown",
   "metadata": {},
   "source": [
    "# Gradient Boosted Trees"
   ]
  },
  {
   "cell_type": "code",
   "execution_count": 50,
   "metadata": {},
   "outputs": [],
   "source": [
    "import shap\n",
    "import xgboost\n",
    "from sklearn.model_selection import train_test_split\n",
    "import matplotlib.pylab as pl\n",
    "import pandas as pd\n",
    "import numpy"
   ]
  },
  {
   "cell_type": "markdown",
   "metadata": {},
   "source": [
    "## Loading Data"
   ]
  },
  {
   "cell_type": "markdown",
   "metadata": {},
   "source": [
    "As with all prior modeling, we drop `id` because it's just the identification number of each patient\n",
    "We exclude `time_d` and `censor_d` because these seem unfair to include \n",
    " in modeling since they contain information about time and censor\n",
    "We chose not to include `txgrp` and `strat2` because they were derived \n",
    "(and thus highly correlated with) from other predictor variables. "
   ]
  },
  {
   "cell_type": "code",
   "execution_count": 93,
   "metadata": {
    "collapsed": true
   },
   "outputs": [],
   "source": [
    "data = pd.read_csv(\"AIDSdata.csv\")\n",
    "data = data.drop(['id', 'time_d', 'censor_d', 'txgrp', 'strat2', 'time_d'], axis=1)"
   ]
  },
  {
   "cell_type": "code",
   "execution_count": 52,
   "metadata": {},
   "outputs": [
    {
     "data": {
      "text/html": [
       "<div>\n",
       "<style scoped>\n",
       "    .dataframe tbody tr th:only-of-type {\n",
       "        vertical-align: middle;\n",
       "    }\n",
       "\n",
       "    .dataframe tbody tr th {\n",
       "        vertical-align: top;\n",
       "    }\n",
       "\n",
       "    .dataframe thead th {\n",
       "        text-align: right;\n",
       "    }\n",
       "</style>\n",
       "<table border=\"1\" class=\"dataframe\">\n",
       "  <thead>\n",
       "    <tr style=\"text-align: right;\">\n",
       "      <th></th>\n",
       "      <th>time</th>\n",
       "      <th>censor</th>\n",
       "      <th>tx</th>\n",
       "      <th>sex</th>\n",
       "      <th>raceth</th>\n",
       "      <th>ivdrug</th>\n",
       "      <th>hemophil</th>\n",
       "      <th>karnof</th>\n",
       "      <th>cd4</th>\n",
       "      <th>priorzdv</th>\n",
       "      <th>age</th>\n",
       "    </tr>\n",
       "  </thead>\n",
       "  <tbody>\n",
       "    <tr>\n",
       "      <th>0</th>\n",
       "      <td>110</td>\n",
       "      <td>0</td>\n",
       "      <td>0</td>\n",
       "      <td>2</td>\n",
       "      <td>3</td>\n",
       "      <td>1</td>\n",
       "      <td>0</td>\n",
       "      <td>90</td>\n",
       "      <td>8.0</td>\n",
       "      <td>9.0</td>\n",
       "      <td>16</td>\n",
       "    </tr>\n",
       "    <tr>\n",
       "      <th>1</th>\n",
       "      <td>88</td>\n",
       "      <td>0</td>\n",
       "      <td>0</td>\n",
       "      <td>1</td>\n",
       "      <td>2</td>\n",
       "      <td>1</td>\n",
       "      <td>0</td>\n",
       "      <td>90</td>\n",
       "      <td>37.0</td>\n",
       "      <td>6.0</td>\n",
       "      <td>35</td>\n",
       "    </tr>\n",
       "    <tr>\n",
       "      <th>2</th>\n",
       "      <td>256</td>\n",
       "      <td>0</td>\n",
       "      <td>0</td>\n",
       "      <td>1</td>\n",
       "      <td>1</td>\n",
       "      <td>1</td>\n",
       "      <td>0</td>\n",
       "      <td>100</td>\n",
       "      <td>35.0</td>\n",
       "      <td>11.0</td>\n",
       "      <td>29</td>\n",
       "    </tr>\n",
       "  </tbody>\n",
       "</table>\n",
       "</div>"
      ],
      "text/plain": [
       "   time  censor  tx  sex  raceth  ivdrug  hemophil  karnof   cd4  priorzdv  \\\n",
       "0   110       0   0    2       3       1         0      90   8.0       9.0   \n",
       "1    88       0   0    1       2       1         0      90  37.0       6.0   \n",
       "2   256       0   0    1       1       1         0     100  35.0      11.0   \n",
       "\n",
       "   age  \n",
       "0   16  \n",
       "1   35  \n",
       "2   29  "
      ]
     },
     "execution_count": 52,
     "metadata": {},
     "output_type": "execute_result"
    }
   ],
   "source": [
    "data.head(3)"
   ]
  },
  {
   "cell_type": "markdown",
   "metadata": {},
   "source": [
    "We next separate predictors and labels. Since XGBoost only allow one column for y, the censoring information is coded as negative values, as recommended by https://stackoverflow.com/questions/53562813/xgboost-cox-survival-time-entry. "
   ]
  },
  {
   "cell_type": "code",
   "execution_count": 94,
   "metadata": {
    "collapsed": true
   },
   "outputs": [],
   "source": [
    "# predictors\n",
    "X = data[['tx', 'sex', 'raceth', 'ivdrug', \n",
    "          'hemophil', 'karnof', 'cd4', 'priorzdv', 'age']]\n",
    "\n",
    "# labels\n",
    "censorL = [c for c in data.censor]\n",
    "timeL = [t for t in data.time]\n",
    "time_censor = list(zip(censorL, timeL))\n",
    "y = [x[1] if x[0] else -x[1] for x in time_censor]"
   ]
  },
  {
   "cell_type": "markdown",
   "metadata": {},
   "source": [
    "We create a train and test split, then train the models. We can't perform cross-validation in the typical way because of the time/event element. However, I personally tried a variety of values for `eta` (learning rate), `max_depth` (maximum depth of each tree), and `subsample` (fraction of observations to be random samples for each tree). From these ad-hoc trials, I chose the values which gave the highest Harrell C-statistic (which measures how well we can order patients by their survival time, where 1 is a perfect ordering).  "
   ]
  },
  {
   "cell_type": "code",
   "execution_count": 107,
   "metadata": {
    "collapsed": true
   },
   "outputs": [],
   "source": [
    "# create a train/test split\n",
    "X_train, X_test, y_train, y_test = train_test_split(X, y, test_size=0.2, random_state=42)"
   ]
  },
  {
   "cell_type": "code",
   "execution_count": 55,
   "metadata": {
    "collapsed": true
   },
   "outputs": [],
   "source": [
    "xgb_full = xgboost.DMatrix(X, label=y)\n",
    "xgb_train = xgboost.DMatrix(X_train, label=y_train)\n",
    "xgb_test = xgboost.DMatrix(X_test, label=y_test)"
   ]
  },
  {
   "cell_type": "code",
   "execution_count": 118,
   "metadata": {},
   "outputs": [
    {
     "name": "stdout",
     "output_type": "stream",
     "text": [
      "[0]\ttest-cox-nloglik:4.93358\n",
      "[1000]\ttest-cox-nloglik:4.32815\n",
      "[2000]\ttest-cox-nloglik:4.17965\n",
      "[3000]\ttest-cox-nloglik:4.10548\n",
      "[4000]\ttest-cox-nloglik:4.08072\n",
      "[5000]\ttest-cox-nloglik:4.06243\n",
      "[6000]\ttest-cox-nloglik:4.06473\n",
      "[7000]\ttest-cox-nloglik:4.07\n",
      "[8000]\ttest-cox-nloglik:4.0913\n",
      "[9000]\ttest-cox-nloglik:4.0933\n",
      "[9999]\ttest-cox-nloglik:4.11254\n"
     ]
    }
   ],
   "source": [
    "# just by messing \n",
    "params = {\n",
    "    \"eta\": 0.002,\n",
    "    \"max_depth\": 2,\n",
    "    \"objective\": \"survival:cox\",\n",
    "    \"subsample\": 0.5,\n",
    "    \"lambda\": 1\n",
    "    \n",
    "}\n",
    "model_train = xgboost.train(params, xgb_train, 10000, \n",
    "                            evals = [(xgb_test, \"test\")], verbose_eval=1000)"
   ]
  },
  {
   "cell_type": "code",
   "execution_count": 87,
   "metadata": {},
   "outputs": [],
   "source": [
    "def c_statistic_harrell(pred, labels):\n",
    "    total = 0\n",
    "    matches = 0\n",
    "    for i in range(len(labels)):\n",
    "        for j in range(len(labels)):\n",
    "            if labels[j] > 0 and abs(labels[i]) > labels[j]:\n",
    "                total += 1\n",
    "                if pred[j] > pred[i]:\n",
    "                    matches += 1\n",
    "    return matches/total"
   ]
  },
  {
   "cell_type": "code",
   "execution_count": 119,
   "metadata": {},
   "outputs": [
    {
     "data": {
      "text/plain": [
       "0.8472803347280334"
      ]
     },
     "execution_count": 119,
     "metadata": {},
     "output_type": "execute_result"
    }
   ],
   "source": [
    "# see how well we can order people by survival\n",
    "c_statistic_harrell(model_train.predict(xgb_test, ntree_limit=5000), y_test)"
   ]
  },
  {
   "cell_type": "markdown",
   "metadata": {},
   "source": [
    "The highest C-statistic I have succeeded in obtaining is 0.847. Using these best parameter values, we train a model on the full dataset. This is the model we use from here on out. "
   ]
  },
  {
   "cell_type": "code",
   "execution_count": 120,
   "metadata": {},
   "outputs": [
    {
     "name": "stdout",
     "output_type": "stream",
     "text": [
      "[0]\ttest-cox-nloglik:6.55808\n",
      "[1000]\ttest-cox-nloglik:5.88025\n",
      "[2000]\ttest-cox-nloglik:5.68649\n",
      "[3000]\ttest-cox-nloglik:5.55264\n",
      "[4000]\ttest-cox-nloglik:5.44628\n",
      "[5000]\ttest-cox-nloglik:5.3553\n",
      "[6000]\ttest-cox-nloglik:5.2725\n",
      "[7000]\ttest-cox-nloglik:5.19823\n",
      "[8000]\ttest-cox-nloglik:5.12945\n",
      "[9000]\ttest-cox-nloglik:5.06519\n",
      "[9999]\ttest-cox-nloglik:5.00736\n"
     ]
    }
   ],
   "source": [
    "# train final model on the full data set\n",
    "params = {\n",
    "    \"eta\": 0.002,\n",
    "    \"max_depth\": 2, \n",
    "    \"objective\": \"survival:cox\",\n",
    "    \"subsample\": 0.5,\n",
    "    \"lambda\": 1\n",
    "}\n",
    "model = xgboost.train(params, xgb_full, 10000, evals = [(xgb_full, \"test\")], verbose_eval=1000)"
   ]
  },
  {
   "cell_type": "markdown",
   "metadata": {},
   "source": [
    "## Explain the Model's Predictions on the Entire Dataset with SHAP values"
   ]
  },
  {
   "cell_type": "markdown",
   "metadata": {},
   "source": [
    "SHAP values are a recently developed way to perform inference on tree-based models. Their key advantage is that rather than simply giving an unsigned feature importance value, as was the case traditionally with tree-based models, SHAP values are signed. Thus, we can make inferences such as \"higher values of x are associated with lower values of y.\""
   ]
  },
  {
   "cell_type": "code",
   "execution_count": 121,
   "metadata": {},
   "outputs": [],
   "source": [
    "shap_values = shap.TreeExplainer(model).shap_values(X)"
   ]
  },
  {
   "cell_type": "code",
   "execution_count": 122,
   "metadata": {},
   "outputs": [
    {
     "data": {
      "image/png": "[encoded data removed]",
      "text/plain": [
       "<Figure size 576x367.2 with 2 Axes>"
      ]
     },
     "metadata": {
      "needs_background": "light"
     },
     "output_type": "display_data"
    }
   ],
   "source": [
    "shap.summary_plot(shap_values, X)"
   ]
  },
  {
   "cell_type": "markdown",
   "metadata": {},
   "source": [
    "In the above SHAP values plot, which replaces the familiar bar chart of feature importance for tree-based models, the predictors are listed from top to bottom in their order of importance in the model. Each dot represents one patient, and the colors represent the range of the effects of each feature within the dataset. These colors enable us to relate how changes in the values of each predictor are associated with the change in hazard. The SHAP values are plotted on the x-axis. Higher SHAP values represent higher risk of death or AIDS diagnosis associated with each explanatory variable.\n",
    "\n",
    "We can observe that the primary risk factor for death or AIDS diagnosis is Baseline CD4 count (`cd4`) as it is the first predictor listed in the SHAP values plot. The lower the CD4 (bluer dots), the higher the risk of dying or being diagnosed with AIDS. \n",
    "\n",
    "The next most important risk factor is the IDV treatment, `tx`. Patients who did recieve the IDV treatment (red) have a lower risk of being diagnosed with AIDS or dying as compared to those who did not recieve the IDV treatment. \n",
    "\n",
    "Another interesting important risk factor is `age`. Although among younger to middle-aged people the risk of death or diagnosis is around the same, older patients are definitely more likely to die or be diagnosed with age.\n",
    "\n",
    "A final informative risk factor is Karnofsky Performance Scale (`karnof`). As expected, the higher the Karnofsky score of a patient, the lower their risk of death or diagnosis. "
   ]
  },
  {
   "cell_type": "code",
   "execution_count": null,
   "metadata": {
    "collapsed": true
   },
   "outputs": [],
   "source": [
    "## Extra Investiagion on Interes"
   ]
  },
  {
   "cell_type": "code",
   "execution_count": null,
   "metadata": {
    "collapsed": true
   },
   "outputs": [],
   "source": [
    "shap_interaction_values = shap.TreeExplainer(model).shap_interaction_values(X)"
   ]
  },
  {
   "cell_type": "markdown",
   "metadata": {},
   "source": [
    "We produce SHAP interaction values which separate the impact of two predictors into main effects and interaction effects. Doing this, we reveal an interesting interaction effect with age and sex. "
   ]
  },
  {
   "cell_type": "code",
   "execution_count": 137,
   "metadata": {},
   "outputs": [
    {
     "data": {
      "image/png": "[encoded data removed]",
      "text/plain": [
       "<Figure size 432x360 with 1 Axes>"
      ]
     },
     "metadata": {
      "needs_background": "light"
     },
     "output_type": "display_data"
    }
   ],
   "source": [
    "shap.dependence_plot(\n",
    "    (\"age\", \"age\"),\n",
    "    shap_interaction_values, X,\n",
    "    display_features=X\n",
    ")"
   ]
  },
  {
   "cell_type": "markdown",
   "metadata": {},
   "source": [
    "In the plot above, we examine the main effect of age on risk of death or diagnosis. Each dot is a single individual. On the x-axis age is plotted and on the y-axis, the SHAP main effect value for age displayed. Higher SHAP values represent higher risk of death or AIDS diagnosis associated with the the interaction effect of age and sex. In general, older people are at greater risk of death or diagnosis (as alluded to in the preceeding feature importance)."
   ]
  },
  {
   "cell_type": "code",
   "execution_count": 135,
   "metadata": {},
   "outputs": [
    {
     "data": {
      "image/png": "[encoded data removed]",
      "text/plain": [
       "<Figure size 540x360 with 2 Axes>"
      ]
     },
     "metadata": {
      "needs_background": "light"
     },
     "output_type": "display_data"
    }
   ],
   "source": [
    "shap.dependence_plot(\n",
    "    (\"age\", \"sex\"),\n",
    "    shap_interaction_values, X,\n",
    "    display_features=X\n",
    ")"
   ]
  },
  {
   "cell_type": "markdown",
   "metadata": {},
   "source": [
    "However, looking at the interaction effect of age and sex, we notice an interesting result. In the above plot, each dot is a single individual. On the x-axis, their age is plotted and on the y-axis, the SHAP interaction value for age and sex is displayed. Higher SHAP values represent higher risk of death or AIDS diagnosis associated with the the interaction effect of age and sex. Coloring each dot by age reveals that females are at greater risk of death or diagnosis at younger ages than males, but at older ages, males are more at risk. "
   ]
  }
 ],
 "metadata": {
  "kernelspec": {
   "display_name": "Python 3",
   "language": "python",
   "name": "python3"
  },
  "language_info": {
   "codemirror_mode": {
    "name": "ipython",
    "version": 3
   },
   "file_extension": ".py",
   "mimetype": "text/x-python",
   "name": "python",
   "nbconvert_exporter": "python",
   "pygments_lexer": "ipython3",
   "version": "3.6.4"
  }
 },
 "nbformat": 4,
 "nbformat_minor": 2
}
